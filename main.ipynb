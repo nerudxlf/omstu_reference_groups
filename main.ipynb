{
  "nbformat": 4,
  "nbformat_minor": 0,
  "metadata": {
    "colab": {
      "name": "main.ipynb",
      "provenance": [],
      "authorship_tag": "ABX9TyND6X7rB/CVHFpUK0DbypR0",
      "include_colab_link": true
    },
    "kernelspec": {
      "name": "python3",
      "display_name": "Python 3"
    },
    "language_info": {
      "name": "python"
    }
  },
  "cells": [
    {
      "cell_type": "markdown",
      "metadata": {
        "id": "view-in-github",
        "colab_type": "text"
      },
      "source": [
        "<a href=\"https://colab.research.google.com/github/nerudxlf/omstu_reference_groups/blob/main/main.ipynb\" target=\"_parent\"><img src=\"https://colab.research.google.com/assets/colab-badge.svg\" alt=\"Open In Colab\"/></a>"
      ]
    },
    {
      "cell_type": "code",
      "metadata": {
        "id": "3T1xPWMBjXhD"
      },
      "source": [
        "import pandas as pd\n",
        "import re\n",
        "from google.colab import files\n",
        "\n",
        "files.upload()"
      ],
      "execution_count": null,
      "outputs": []
    },
    {
      "cell_type": "code",
      "metadata": {
        "id": "Vt7Yprg3jf-D"
      },
      "source": [
        "def get_normal_value(data: list) -> list:\n",
        "  \"\"\"\n",
        "  Функция удаляет из строк в списке все символы кроме букв пробела и ;\n",
        "  param: data(list): список категорий из выгрузки WoS\n",
        "  return: return_list(list): преобразованный список категорий\n",
        "  \"\"\"\n",
        "  return_list = []\n",
        "  for item in data:\n",
        "    item = re.sub(r'[^A-Za-z ;]', '', item)\n",
        "    return_list.append(item)\n",
        "  return return_list\n",
        "\n",
        "\n",
        "def count_values(wos_categories: list, name_code: dict) -> DataFrame:\n",
        "  \"\"\"\n",
        "  Функция считает количество статей по направлениям\n",
        "  param: wos_categories(list): категории статей из выгрузки WoS\n",
        "         name_code(dict): словарь, где ключ - это название референтной группы\n",
        "                                       значение - это код классификации отраслей\n",
        "  return: DataFrame: таблица из названия референтной группы и количества\n",
        "                     публикаций, которые входят в эту группу\n",
        "  \"\"\"\n",
        "  name_value_dict = dict.fromkeys(name_code.keys(), 0)\n",
        "  for key, value in name_code.items():\n",
        "    for element in wos_categories:\n",
        "      for category in element.split(\"; \"):\n",
        "        try:\n",
        "          if value.find(category.upper()) != -1:\n",
        "            name_value_dict[key] += 1\n",
        "            break\n",
        "        except AttributeError:\n",
        "          pass\n",
        "  return pd.DataFrame({\"Name\": name_value_dict.keys(), \"Value\": name_value_dict.values()})"
      ],
      "execution_count": null,
      "outputs": []
    },
    {
      "cell_type": "code",
      "metadata": {
        "id": "chsr4gsvjtaD"
      },
      "source": [
        "all_wos_2020_df = pd.read_excel(\"data/all_wos_2020.xls\")\n",
        "schema_df = pd.read_excel(\"data/schema.xlsx\")\n",
        "\n",
        "name_schema_list = schema_df[\"name\"].to_list()\n",
        "code_schema_list = schema_df[\"code\"].to_list()\n",
        "\n",
        "name_code_dict = dict(zip(name_schema_list, code_schema_list))\n",
        "wos_categories_tuple = get_normal_value(all_wos_2020_df[\"WoS Categories\"].to_list())\n",
        "result_df = count_values(wos_categories_tuple, name_code_dict)\n",
        "result_df.to_excel(\"data/results.xlsx\", index=False)"
      ],
      "execution_count": null,
      "outputs": []
    }
  ]
}